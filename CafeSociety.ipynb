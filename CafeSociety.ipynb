{
 "cells": [
  {
   "cell_type": "code",
   "execution_count": null,
   "id": "2de23e5f",
   "metadata": {},
   "outputs": [],
   "source": [
    "from bs4 import BeautifulSoup\n",
    "import requests\n",
    "import urllib.parse"
   ]
  },
  {
   "cell_type": "code",
   "execution_count": null,
   "id": "5ecb8f48",
   "metadata": {},
   "outputs": [],
   "source": [
    "r  = requests.get(\"https://www.theurbanlist.com/brisbane/a-list/best-cafes-brisbane\")\n",
    "\n",
    "# Other urls on theurbanlist.com also work with this Notebook, if they are a list of cafes!\n",
    "#r  = requests.get(\"https://www.theurbanlist.com/melbourne/a-list/best-cafes-melbourne\")\n",
    "\n",
    "data = r.text"
   ]
  },
  {
   "cell_type": "code",
   "execution_count": null,
   "id": "af6eae8a",
   "metadata": {},
   "outputs": [],
   "source": [
    "# parse the raw HTML into a `soup' object\n",
    "soup = BeautifulSoup(data, \"html.parser\")\n",
    "div = soup.find('div', class_='editable-content', itemprop='articleBody')"
   ]
  },
  {
   "cell_type": "code",
   "execution_count": null,
   "id": "415569ea",
   "metadata": {},
   "outputs": [],
   "source": [
    "# I discovered by inspecting page source that the cafe's names appear in <h3> OR <h2> tags \n",
    "tags = div.findAll(['h3', 'h2'])\n",
    "cafe = []\n",
    "for tag in tags[1:]:\n",
    "    text = tag.text.strip(\"\\xa0\")\n",
    "    cafe.append(text)"
   ]
  },
  {
   "cell_type": "code",
   "execution_count": null,
   "id": "c7421b3a",
   "metadata": {},
   "outputs": [],
   "source": [
    "# This is for cafe's location; conveniently all in <h4> tags\n",
    "h4tags = div.findAll(\"h4\")\n",
    "suburb = []\n",
    "for h4 in h4tags[1:]:\n",
    "    text = h4.text.strip(\"\\xa0\")\n",
    "    suburb.append(text)"
   ]
  },
  {
   "cell_type": "code",
   "execution_count": null,
   "id": "8965bb6d",
   "metadata": {},
   "outputs": [],
   "source": [
    "import pandas as pd\n",
    "Cols = {'Cafe': cafe, 'Suburb': suburb}"
   ]
  },
  {
   "cell_type": "code",
   "execution_count": null,
   "id": "0e221baf",
   "metadata": {},
   "outputs": [],
   "source": [
    "df = pd.DataFrame(Cols)\n",
    "df.index = df.index + 1\n",
    "print(df)"
   ]
  },
  {
   "cell_type": "code",
   "execution_count": null,
   "id": "875072f1",
   "metadata": {},
   "outputs": [],
   "source": [
    "# Finally, save the DataFrame to a CSV file with UTF-8 encoding\n",
    "df.to_csv('output.csv', index=False, encoding='utf-8')"
   ]
  }
 ],
 "metadata": {
  "kernelspec": {
   "display_name": "Python 3 (ipykernel)",
   "language": "python",
   "name": "python3"
  },
  "language_info": {
   "codemirror_mode": {
    "name": "ipython",
    "version": 3
   },
   "file_extension": ".py",
   "mimetype": "text/x-python",
   "name": "python",
   "nbconvert_exporter": "python",
   "pygments_lexer": "ipython3",
   "version": "3.10.9"
  }
 },
 "nbformat": 4,
 "nbformat_minor": 5
}
